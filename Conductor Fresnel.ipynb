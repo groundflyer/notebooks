{
 "cells": [
  {
   "cell_type": "markdown",
   "metadata": {},
   "source": [
    "Lazanyi I. and Szirmay-Kalos L. Fresnel Term Approximation for Metals\n",
    "\n",
    "$$\n",
    "F(\\eta,k,\\cos \\theta) = \\frac{(\\eta-1)^2 + 4\\eta(1-\\cos \\theta)^5 + k^2}{(\\eta+1)^2+k^2}\n",
    "$$\n",
    "\n",
    "$$\n",
    "F(\\eta,k,\\cos \\theta) = \\frac{(\\eta-1)^2 + 4\\eta(1-\\cos \\theta)^5 + k^2}{(\\eta+1)^2+k^2} - a \\cos \\theta(1- \\cos \\theta)^\\alpha\n",
    "$$\n",
    "where\n",
    "$$\n",
    "a = \\text{lerp}(2\\eta, 0, \\min(\\cos\\theta, 0.15))\n",
    "$$"
   ]
  },
  {
   "cell_type": "code",
   "execution_count": 1,
   "metadata": {
    "collapsed": false
   },
   "outputs": [],
   "source": [
    "%matplotlib inline\n",
    "import matplotlib.pyplot as plt\n",
    "import numpy as np"
   ]
  },
  {
   "cell_type": "markdown",
   "metadata": {},
   "source": [
    "## Original Fresnel for non-polarized wave"
   ]
  },
  {
   "cell_type": "code",
   "execution_count": 2,
   "metadata": {
    "collapsed": false
   },
   "outputs": [],
   "source": [
    "def cofresnel(n=2.,k=4., theta=0.5):\n",
    "    n2 = n*n\n",
    "    k2 = k*k\n",
    "    theta2 = theta*theta\n",
    "    tmp1 = n2 - k2\n",
    "    sintheta = theta2 - 1.\n",
    "    tmp2 = (tmp1 + sintheta)**2\n",
    "    nk4 = 4. * n2 * k2\n",
    "    tmp2nk4 = tmp2 + nk4\n",
    "    tmp3 = tmp2nk4 + tmp1 + sintheta\n",
    "    a2 = np.sqrt(tmp3)/2.\n",
    "    tmp4 = tmp2nk4 - n2 + k2 - theta2 + 1.\n",
    "    b2 = np.sqrt(tmp4)/2.\n",
    "    a= np.sqrt(a2)\n",
    "    F1 = ((a - theta)**2 + b2) / ((a + theta)**2 + b2) / 2.\n",
    "    u1 = 1. / theta\n",
    "    F2 = ((a + theta - u1)**2 + b2)/((a - theta + u1)**2 + b2) + 1.\n",
    "    return F1*F2"
   ]
  },
  {
   "cell_type": "markdown",
   "metadata": {},
   "source": [
    "## Approximation"
   ]
  },
  {
   "cell_type": "code",
   "execution_count": 3,
   "metadata": {
    "collapsed": false
   },
   "outputs": [],
   "source": [
    "def lerp(a, b, bias):\n",
    "    tmp = b - a\n",
    "    add = tmp * bias\n",
    "    return a + add\n",
    "\n",
    "def cfresnel(n=2, k=4, theta=0.5):\n",
    "    f = (n-1)**2 + 4*n*(1-theta)**5 + k*k\n",
    "    f /= (n+1)**2 + k*k\n",
    "    return f\n",
    "\n",
    "def errocomp(n, theta, alpha = 7):\n",
    "    bias = 0.15 - np.min(theta, 0.15)\n",
    "    a = lerp(1, 2*n, bias)\n",
    "    return a\n",
    "\n",
    "#with error compensation\n",
    "def cefresnel(n=2, k=4, theta=0.5, alpha = 3):\n",
    "    val = cfresnel(n, k, theta)\n",
    "    err = errocomp(n, theta, alpha)\n",
    "    return val ** err"
   ]
  },
  {
   "cell_type": "code",
   "execution_count": 4,
   "metadata": {
    "collapsed": false
   },
   "outputs": [],
   "source": [
    "silvero = lambda x: cofresnel(1/0.15, 3.4727, x)\n",
    "silvercomp = lambda x: cefresnel(1/0.15, 3.4727, x)\n",
    "\n",
    "allum = lambda x: cfresnel(1/1.0972, 6.7943, x)\n",
    "allumcomp = lambda x: cefresnel(1/1.0972, 6.7943, x)"
   ]
  },
  {
   "cell_type": "code",
   "execution_count": 5,
   "metadata": {
    "collapsed": false
   },
   "outputs": [
    {
     "name": "stderr",
     "output_type": "stream",
     "text": [
      "/usr/lib64/python3.4/site-packages/numpy/core/_methods.py:29: VisibleDeprecationWarning: using a non-integer number instead of an integer will result in an error in the future\n",
      "  return umr_minimum(a, axis, None, out, keepdims)\n"
     ]
    },
    {
     "data": {
      "image/png": "[encoded data removed]",
      "text/plain": [
       "<matplotlib.figure.Figure at 0x7f833bb5b5c0>"
      ]
     },
     "metadata": {},
     "output_type": "display_data"
    }
   ],
   "source": [
    "ms = np.arange(0.01, 0.99, 0.01)\n",
    "\n",
    "data = [(silvero(ms), 'Silver Fresnel'),\n",
    "        (silvercomp(ms), 'Silver Approx'),\n",
    "        (allum(ms), 'Alluminium Fresnel'),\n",
    "        (allumcomp(ms), 'Alluminium Approx')]\n",
    "\n",
    "fig = plt.figure(figsize = (10,6))\n",
    "ax = fig.add_subplot(111, xlabel='$\\cos\\\\theta$', ylabel='$I$')\n",
    "\n",
    "for y, lbl in data:\n",
    "    pl = ax.plot(ms, y, label=lbl)\n",
    "\n",
    "leg = ax.legend(loc=5)"
   ]
  },
  {
   "cell_type": "code",
   "execution_count": null,
   "metadata": {
    "collapsed": false
   },
   "outputs": [],
   "source": []
  }
 ],
 "metadata": {
  "kernelspec": {
   "display_name": "Python 3",
   "language": "python",
   "name": "python3"
  },
  "language_info": {
   "codemirror_mode": {
    "name": "ipython",
    "version": 3
   },
   "file_extension": ".py",
   "mimetype": "text/x-python",
   "name": "python",
   "nbconvert_exporter": "python",
   "pygments_lexer": "ipython3",
   "version": "3.4.3"
  }
 },
 "nbformat": 4,
 "nbformat_minor": 0
}
