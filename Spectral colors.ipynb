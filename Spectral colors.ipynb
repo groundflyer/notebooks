{
 "cells": [
  {
   "cell_type": "code",
   "execution_count": 1,
   "metadata": {
    "collapsed": false
   },
   "outputs": [],
   "source": [
    "%matplotlib inline\n",
    "import numpy as np\n",
    "import matplotlib.pyplot as plt\n",
    "import matplotlib as mpl"
   ]
  },
  {
   "cell_type": "markdown",
   "metadata": {},
   "source": [
    "## XYZ -> RGB matrix inference"
   ]
  },
  {
   "cell_type": "code",
   "execution_count": 2,
   "metadata": {
    "collapsed": false
   },
   "outputs": [
    {
     "name": "stdout",
     "output_type": "stream",
     "text": [
      "[[ 3.24297897 -1.53833618 -0.49891984]\n",
      " [-0.96899795  1.87549198  0.04154452]\n",
      " [ 0.05566832 -0.20411719  1.05769816]]\n"
     ]
    }
   ],
   "source": [
    "m709 = np.mat([[0.64, 0.33, 0.03],\n",
    "                [0.3, 0.6, 0.1],\n",
    "                [0.15, 0.06, 0.79]])\n",
    "\n",
    "xr, yr, zr = np.squeeze(np.array(m709[0]))\n",
    "xg, yg, zg = np.squeeze(np.array(m709[1]))\n",
    "xb, yb, zb = np.squeeze(np.array(m709[2]))\n",
    "xw, yw, zw = 0.3127, 0.3291, 0.3582\n",
    "\n",
    "#xyz -> rgb matrix, before scaling to white.\n",
    "rx, ry, rz = (yg * zb) - (yb * zg), (xb * zg) - (xg * zb), (xg * yb) - (xb * yg)\n",
    "gx, gy, gz = (yb * zr) - (yr * zb), (xr * zb) - (xb * zr), (xb * yr) - (xr * yb)\n",
    "bx, by, bz = (yr * zg) - (yg * zr), (xg * zr) - (xr * zg), (xr * yg) - (xg * yr)\n",
    "\n",
    "#White scaling factors.\n",
    "#Dividing by yw scales the white luminance to unity, as conventional.\n",
    "rw = ((rx * xw) + (ry * yw) + (rz * zw)) / yw\n",
    "gw = ((gx * xw) + (gy * yw) + (gz * zw)) / yw\n",
    "bw = ((bx * xw) + (by * yw) + (bz * zw)) / yw\n",
    "\n",
    "#xyz -> rgb matrix, correctly scaled to white.\n",
    "rx = rx / rw;  ry = ry / rw;  rz = rz / rw;\n",
    "gx = gx / gw;  gy = gy / gw;  gz = gz / gw;\n",
    "bx = bx / bw;  by = by / bw;  bz = bz / bw;\n",
    "\n",
    "test_mat = np.mat([[rx, ry, rz],\n",
    "                    [gx, gy, gz],\n",
    "                    [bx, by, bz]])\n",
    "\n",
    "print (test_mat)"
   ]
  },
  {
   "cell_type": "markdown",
   "metadata": {},
   "source": [
    "## Simple Analytic Approximations to the CIE XYZ Color Matching Functions\n",
    "by Chris Wyman, Peter-Pike Sloan Peter Shirley"
   ]
  },
  {
   "cell_type": "code",
   "execution_count": 3,
   "metadata": {
    "collapsed": false
   },
   "outputs": [],
   "source": [
    "def ts(wl, alpha, beta, gamma, delta):\n",
    "    c = wl - beta\n",
    "    return alpha * np.exp(-0.5 * (c * (gamma if (c < 0) else delta))**2)\n",
    "\n",
    "def fit(wl, *args):\n",
    "    return np.sum([ts(wl, *coeffs) for coeffs in args])\n",
    "\n",
    "def wl_2_xyz(wl):\n",
    "    x_coeffs = ((0.362, 442.0, 0.0624, 0.0374),\n",
    "                (1.056, 599.8, 0.0264, 0.0323),\n",
    "                (-0.065, 501.1, 0.0490, 0.0382))\n",
    "\n",
    "    y_coeffs = ((0.821, 568.8, 0.0213, 0.0247),\n",
    "                (0.286, 530.9, 0.0613, 0.0322))\n",
    "\n",
    "    z_coeffs = ((1.217, 437.0, 0.0845, 0.0278),\n",
    "                (0.681, 459.0, 0.0385, 0.0725))\n",
    "\n",
    "    return np.mat([fit(wl, *x_coeffs), fit(wl, *y_coeffs), fit(wl, *z_coeffs)])\n",
    "\n",
    "def xyz_2_chr(xyz):\n",
    "    \"\"\"XYZ to chromaticity coordinates\"\"\"\n",
    "    x,y,z = (c/sum(xyz) for c in xyz)\n",
    "    return x,y,z"
   ]
  },
  {
   "cell_type": "markdown",
   "metadata": {},
   "source": [
    "## Wavelength -> RGB conversion"
   ]
  },
  {
   "cell_type": "code",
   "execution_count": 4,
   "metadata": {
    "collapsed": false
   },
   "outputs": [],
   "source": [
    "RGB_M = np.mat([[1.7552599, -0.4836786, -0.2530000],\n",
    "                [-0.5441336,  1.5068789,  0.0215528],\n",
    "                [0.0063467, -0.0175761,  1.2256959]])\n",
    "\n",
    "\n",
    "sRGB_M = np.mat([[3.2404542, -1.5371385, -0.4985314],\n",
    "                 [-0.9692660,  1.8760108,  0.0415560],\n",
    "                 [0.0556434, -0.2040259,  1.0572252]])\n",
    "\n",
    "ACES = np.mat([[1.0498110175, 0.0, -0.0000974845],\n",
    "              [-0.4959030231, 1.3733130458, 0.0982400361],\n",
    "              [0.0, 0.0, 0.9912520182]])\n",
    "\n",
    "\n",
    "def stretch01(rgb):\n",
    "    top = np.max(rgb)\n",
    "    bottom = np.min(rgb)\n",
    "    rang = top - bottom\n",
    "    return (rgb - bottom)/rang"
   ]
  },
  {
   "cell_type": "code",
   "execution_count": 5,
   "metadata": {
    "collapsed": false
   },
   "outputs": [
    {
     "name": "stdout",
     "output_type": "stream",
     "text": [
      "White is [ 0.68522342  0.29870292  0.42072795]\n"
     ]
    },
    {
     "data": {
      "image/png": "[encoded data removed]",
      "text/plain": [
       "<matplotlib.figure.Figure at 0x7f93022ca4e0>"
      ]
     },
     "metadata": {},
     "output_type": "display_data"
    }
   ],
   "source": [
    "def wl_2_rgb(wl, M = sRGB_M):\n",
    "    tmp = wl_2_xyz(wl) * M\n",
    "    tmp = np.squeeze(np.array(tmp))\n",
    "    return stretch01(tmp)\n",
    "\n",
    "spectre = np.arange(400, 680, 1)\n",
    "\n",
    "fig = plt.figure()\n",
    "\n",
    "spec1 = np.array([wl_2_rgb(wl) for wl in spectre])\n",
    "spec1_w = np.mean(spec1, 0)\n",
    "clr1 = np.repeat(np.array([spec1]), 30, axis=0)\n",
    "\n",
    "spec2= np.array([wl_2_rgb(wl, M = ACES) for wl in spectre])\n",
    "clr2 = np.repeat(np.array([spec2]), 30, axis=0)\n",
    "\n",
    "img1 = fig.add_subplot(111)\n",
    "img1.set_axis_off()\n",
    "t1 = img1.imshow(clr1)\n",
    "\n",
    "img2 = fig.add_subplot(212)\n",
    "img2.set_axis_off()\n",
    "t2 = img2.imshow(clr2)\n",
    "\n",
    "print (\"White is\", spec1_w)"
   ]
  },
  {
   "cell_type": "code",
   "execution_count": 6,
   "metadata": {
    "collapsed": false
   },
   "outputs": [
    {
     "name": "stdout",
     "output_type": "stream",
     "text": [
      "D65 white [ 0.65270409  0.32097981  0.44882266]\n"
     ]
    },
    {
     "data": {
      "image/png": "[encoded data removed]",
      "text/plain": [
       "<matplotlib.figure.Figure at 0x7f93022cab70>"
      ]
     },
     "metadata": {},
     "output_type": "display_data"
    }
   ],
   "source": [
    "cie_d65_data = np.genfromtxt(\"CIE_D65.csv\", skip_header=5)\n",
    "\n",
    "# wavelength and weights\n",
    "wvls = cie_d65_data.T[0]\n",
    "weigths = cie_d65_data.T[1]\n",
    "\n",
    "\n",
    "from scipy.interpolate import UnivariateSpline\n",
    "\n",
    "spl = UnivariateSpline(wvls, weigths)\n",
    "\n",
    "figd65 = plt.figure(figsize=(10, 6))\n",
    "ax = figd65.add_subplot(111, title=\"SPD of Standard Illuminant D65\", ylabel=\"Weight\", xlabel=\"$\\lambda$,nm\")\n",
    "pl = ax.plot(spectre, spl(spectre), \"b\", lw=3)\n",
    "\n",
    "spec1_wd65 = np.average(spec1, 0, spl(spectre))\n",
    "print (\"D65 white\", spec1_wd65)"
   ]
  },
  {
   "cell_type": "code",
   "execution_count": null,
   "metadata": {
    "collapsed": true
   },
   "outputs": [],
   "source": []
  }
 ],
 "metadata": {
  "kernelspec": {
   "display_name": "Python 3",
   "language": "python",
   "name": "python3"
  },
  "language_info": {
   "codemirror_mode": {
    "name": "ipython",
    "version": 3
   },
   "file_extension": ".py",
   "mimetype": "text/x-python",
   "name": "python",
   "nbconvert_exporter": "python",
   "pygments_lexer": "ipython3",
   "version": "3.4.3"
  }
 },
 "nbformat": 4,
 "nbformat_minor": 0
}
